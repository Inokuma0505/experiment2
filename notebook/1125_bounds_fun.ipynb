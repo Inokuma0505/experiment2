{
 "cells": [
  {
   "cell_type": "code",
   "execution_count": 1,
   "metadata": {},
   "outputs": [],
   "source": [
    "import matplotlib.pyplot as plt\n",
    "import numpy as np\n",
    "from numpy.typing import NDArray\n",
    "from sklearn.linear_model import LinearRegression\n",
    "from sklearn.model_selection import KFold, train_test_split\n",
    "from sklearn.multioutput import MultiOutputRegressor\n",
    "import pandas as pd\n",
    "from scipy.optimize import minimize\n",
    "import time"
   ]
  },
  {
   "cell_type": "code",
   "execution_count": 2,
   "metadata": {},
   "outputs": [],
   "source": [
    "# 価格を生成する関数\n",
    "def create_price(r_min: float, r_max: float, M: int) -> NDArray[np.float_]:\n",
    "    # r_minとr_maxの間のランダムな0.1刻みの少数をM個生成\n",
    "    price = np.random.uniform(r_min, r_max, M)\n",
    "    price = np.round(price, 1)\n",
    "\n",
    "    return price\n",
    "\n",
    "\n",
    "# alphaを作成する関数\n",
    "def alpha_star(M: int) -> NDArray[np.float_]:\n",
    "    alpha_star = np.random.uniform(M, 3 * M, size=M)\n",
    "    return alpha_star\n",
    "\n",
    "\n",
    "# betaを作成する関数\n",
    "def beta_star(M: int, M_prime: int) -> NDArray[np.float_]:\n",
    "    beta_star = np.zeros((M, M_prime))\n",
    "\n",
    "    for m in range(M):\n",
    "        for m_prime in range(M_prime):\n",
    "            if m == m_prime:\n",
    "                beta_star[m, m_prime] = np.random.uniform(-2 * M, -M)\n",
    "            else:\n",
    "                beta_star[m, m_prime] = np.random.uniform(0, 1)\n",
    "\n",
    "    return beta_star\n",
    "\n",
    "\n",
    "def quantity_function(\n",
    "    price: NDArray[np.float_],\n",
    "    alpha: NDArray[np.float_],\n",
    "    beta: NDArray[np.float_],\n",
    "    delta: float = 0.1,  # ノイズレベルを指定（例として0.1を使用）\n",
    ") -> list[float]:\n",
    "    M = len(price)\n",
    "    quantity_list = []\n",
    "    q_m_no_noise = []\n",
    "\n",
    "    # ステップ1: ノイズなしのq_mを計算\n",
    "    for m in range(M):\n",
    "        sum_beta = 0\n",
    "        for m_prime in range(M):\n",
    "            sum_beta += beta[m][m_prime] * price[m_prime]\n",
    "        quantity = alpha[m] + sum_beta\n",
    "        q_m_no_noise.append(quantity)\n",
    "\n",
    "    # E[q_m^2]を計算\n",
    "    E_q_m_squared = np.mean(np.array(q_m_no_noise) ** 2)\n",
    "\n",
    "    # ステップ2: ノイズの標準偏差sigmaを計算\n",
    "    sigma = delta * np.sqrt(E_q_m_squared)\n",
    "\n",
    "    # ステップ3: ノイズを加えて最終的なq_mを計算\n",
    "    for m in range(M):\n",
    "        epsilon = np.random.normal(0, sigma)\n",
    "        quantity = q_m_no_noise[m] + epsilon\n",
    "        quantity_list.append(quantity)\n",
    "\n",
    "    return quantity_list\n",
    "\n",
    "\n",
    "def sales_function(\n",
    "    price: NDArray[np.float_], alpha: NDArray[np.float_], beta: NDArray[np.float_]\n",
    ") -> list[float]:\n",
    "    M = len(price)\n",
    "    sales_list = []\n",
    "\n",
    "    for m in range(M):\n",
    "        sum_beta = 0\n",
    "        for m_prime in range(M):\n",
    "            sum_beta += beta[m][m_prime] * price[m_prime]\n",
    "\n",
    "        quantity = alpha[m] + sum_beta\n",
    "        sales_list.append(quantity * price[m])\n",
    "\n",
    "    return sales_list"
   ]
  },
  {
   "cell_type": "code",
   "execution_count": 3,
   "metadata": {},
   "outputs": [],
   "source": [
    "# 目的関数を定義（最大化問題を最小化問題に変換）\n",
    "def sales_objective_function(prices, alpha, beta, M):\n",
    "    return -sum(\n",
    "        prices[m] * (alpha[m] + sum(beta[m][m_prime] * prices[m_prime] for m_prime in range(M)))\n",
    "        for m in range(M)\n",
    "    )"
   ]
  },
  {
   "cell_type": "code",
   "execution_count": 4,
   "metadata": {},
   "outputs": [],
   "source": [
    "def sales_optimize(\n",
    "    M: int,\n",
    "    alpha: np.ndarray,\n",
    "    beta: np.ndarray,\n",
    "    prices_list: list[float],\n",
    ") -> tuple[float, np.ndarray]:\n",
    "    # 初期値として与えられたprices_listを使用\n",
    "    initial_prices = np.full(M, 0.6)\n",
    "    # 各価格の範囲を設定（0.6から1.0）\n",
    "    bounds = [(0.6, 1.0) for _ in range(M)]\n",
    "    # 最適化を実行\n",
    "    result = minimize(\n",
    "        sales_objective_function,\n",
    "        initial_prices,\n",
    "        args=(alpha, beta, M),\n",
    "        bounds=bounds,\n",
    "        method=\"L-BFGS-B\",\n",
    "    )\n",
    "    # 最適な価格と目的関数の値を取得\n",
    "    optimal_prices = result.x\n",
    "    optimal_value = -result.fun  # 符号を反転して元の最大化問題の値に戻す\n",
    "    return optimal_value, optimal_prices"
   ]
  },
  {
   "cell_type": "code",
   "execution_count": 5,
   "metadata": {},
   "outputs": [],
   "source": [
    "# 目的関数を定義\n",
    "def predict_objective_function(\n",
    "    prices: NDArray[np.float_], intercepts: [float], coefs: [NDArray[np.float_]], M: int\n",
    ") -> float:\n",
    "    # 各変数の内容をデバッグ出力\n",
    "    # print(\"prices:\", prices)\n",
    "    # print(\"intercepts:\", intercepts)\n",
    "    # print(\"coefs:\", coefs)\n",
    "    # print(\"M:\", M)\n",
    "\n",
    "    return -sum(\n",
    "        prices[m]\n",
    "        * (intercepts[m] + sum(coefs[m][m_prime] * prices[m_prime] for m_prime in range(M)))\n",
    "        for m in range(M)\n",
    "    )"
   ]
  },
  {
   "cell_type": "code",
   "execution_count": 6,
   "metadata": {},
   "outputs": [],
   "source": [
    "# 予測と最適化を行う関数\n",
    "def lb_predict_optimize(\n",
    "    lb: list[float], M: int, X: NDArray[np.float_], Y: NDArray[np.float_]\n",
    ") -> tuple[float, NDArray[np.float_]]:\n",
    "    lr = MultiOutputRegressor(LinearRegression())\n",
    "    lr.fit(X, Y)\n",
    "    # 係数と切片を取得\n",
    "    coefs = [estimate.coef_ for estimate in lr.estimators_]\n",
    "    intercepts = [estimate.intercept_ for estimate in lr.estimators_]\n",
    "\n",
    "    # 初期値として与えられたprices_listを使用\n",
    "    initial_prices = np.full(M, 0.6)\n",
    "    # 各価格の範囲を設定（0.6から1.0）\n",
    "    bounds = [(lb[m], 1.0) for m in range(M)]\n",
    "    # 最適化を実行\n",
    "    result = minimize(\n",
    "        predict_objective_function,\n",
    "        initial_prices,\n",
    "        args=(intercepts, coefs, M),\n",
    "        bounds=bounds,\n",
    "        method=\"L-BFGS-B\",\n",
    "    )\n",
    "    # 最適な価格と目的関数の値を取得\n",
    "    optimal_prices = result.x\n",
    "    optimal_value = -result.fun  # 符号を反転して元の最大化問題の値に戻す\n",
    "    return -optimal_value"
   ]
  },
  {
   "cell_type": "code",
   "execution_count": 7,
   "metadata": {},
   "outputs": [],
   "source": [
    "# CVを行う関数\n",
    "def cross_validation_lb(\n",
    "    lb: list[float],\n",
    "    X: NDArray[np.float_],\n",
    "    y: NDArray[np.float_],\n",
    "    M: int,\n",
    "    K: int,\n",
    "    prices_list: list[float],\n",
    ") -> float:\n",
    "    kf = KFold(n_splits=K, shuffle=True, random_state=0)\n",
    "    optimal_sales_list = []\n",
    "\n",
    "    bounds = [(lb[m], 1.0) for m in range(M)]\n",
    "\n",
    "    for train_index, test_index in kf.split(X):\n",
    "        X_train, X_test = X[train_index], X[test_index]\n",
    "        y_train, y_test = y[train_index], y[test_index]\n",
    "\n",
    "        # trainで学習\n",
    "        lr_tilda = MultiOutputRegressor(LinearRegression())\n",
    "\n",
    "        # 係数、切片を取得\n",
    "        lr_tilda.fit(X_train, y_train)\n",
    "        coefs = [estimate.coef_ for estimate in lr_tilda.estimators_]\n",
    "        intercepts = [estimate.intercept_ for estimate in lr_tilda.estimators_]\n",
    "\n",
    "        # 初期値として与えられたprices_listを使用\n",
    "        initial_prices = np.full(M, 0.6)\n",
    "        # 各価格の範囲を設定（0.6から1.0）\n",
    "\n",
    "        # 最適化を実行\n",
    "        result = minimize(\n",
    "            predict_objective_function,\n",
    "            initial_prices,\n",
    "            args=(intercepts, coefs, M),\n",
    "            bounds=bounds,\n",
    "            method=\"L-BFGS-B\",\n",
    "        )\n",
    "        # 最適な価格と目的関数の値を取得\n",
    "        optimal_prices = result.x\n",
    "\n",
    "        # testで学習\n",
    "        lr_hat = MultiOutputRegressor(LinearRegression())\n",
    "        lr_hat.fit(X_test, y_test)\n",
    "\n",
    "        quantity_hat = lr_hat.predict([optimal_prices])\n",
    "        sales_hat = np.sum(quantity_hat * optimal_prices)\n",
    "\n",
    "        optimal_sales_list.append(sales_hat)\n",
    "\n",
    "    return -np.mean(optimal_sales_list)"
   ]
  },
  {
   "cell_type": "code",
   "execution_count": 8,
   "metadata": {},
   "outputs": [],
   "source": [
    "def esitimate_lb_nelder(lb, M, X, y, K, z, adaptive=True):\n",
    "    # adaptive=Trueの場合、optionsにadaptive=Trueを指定\n",
    "    bounds_nelder = minimize(\n",
    "        cross_validation_lb,\n",
    "        lb,\n",
    "        args=(X, y, M, K, z),\n",
    "        method=\"Nelder-Mead\",\n",
    "        bounds=[(0.6, 1.0) for _ in range(M)],\n",
    "        options={\"adaptive\": adaptive},\n",
    "    )\n",
    "    return bounds_nelder.fun, bounds_nelder.x"
   ]
  },
  {
   "cell_type": "code",
   "execution_count": 9,
   "metadata": {},
   "outputs": [],
   "source": [
    "# CVを行う関数\n",
    "def cross_validation_pr(\n",
    "    pr: list[float],\n",
    "    X: NDArray[np.float_],\n",
    "    y: NDArray[np.float_],\n",
    "    M: int,\n",
    "    K: int,\n",
    "    prices_list: list[float],\n",
    ") -> float:\n",
    "    kf = KFold(n_splits=K, shuffle=True, random_state=0)\n",
    "    optimal_sales_list = []\n",
    "\n",
    "    bounds = [(0.6, 1.0) for _ in range(M)]\n",
    "\n",
    "    for train_index, test_index in kf.split(X):\n",
    "        X_train, X_test = X[train_index], X[test_index]\n",
    "        y_train, y_test = y[train_index], y[test_index]\n",
    "\n",
    "        # trainで学習\n",
    "        lr_tilda = MultiOutputRegressor(LinearRegression())\n",
    "\n",
    "        # 係数、切片を取得\n",
    "        lr_tilda.fit(X_train, y_train)\n",
    "        coefs = [estimate.coef_ for estimate in lr_tilda.estimators_]\n",
    "        intercepts = [estimate.intercept_ for estimate in lr_tilda.estimators_]\n",
    "\n",
    "        # 初期値として与えられたprices_listを使用\n",
    "\n",
    "        # 各価格の範囲を設定（0.6から1.0）\n",
    "\n",
    "        # 最適化を実行\n",
    "        result = minimize(\n",
    "            predict_objective_function,\n",
    "            pr,\n",
    "            args=(intercepts, coefs, M),\n",
    "            bounds=bounds,\n",
    "            method=\"L-BFGS-B\",\n",
    "        )\n",
    "        # 最適な価格と目的関数の値を取得\n",
    "        optimal_prices = result.x\n",
    "\n",
    "        # testで学習\n",
    "        lr_hat = MultiOutputRegressor(LinearRegression())\n",
    "        lr_hat.fit(X_test, y_test)\n",
    "\n",
    "        quantity_hat = lr_hat.predict([optimal_prices])\n",
    "        sales_hat = np.sum(quantity_hat * optimal_prices)\n",
    "\n",
    "        optimal_sales_list.append(sales_hat)\n",
    "\n",
    "    return -np.mean(optimal_sales_list)"
   ]
  },
  {
   "cell_type": "code",
   "execution_count": 10,
   "metadata": {},
   "outputs": [],
   "source": [
    "# 予測と最適化を行う関数\n",
    "def predict_optimize(\n",
    "    M: int, X: NDArray[np.float_], Y: NDArray[np.float_], prices_list: list[float]\n",
    ") -> tuple[float, NDArray[np.float_]]:\n",
    "    lr = MultiOutputRegressor(LinearRegression())\n",
    "    lr.fit(X, Y)\n",
    "    # 係数と切片を取得\n",
    "    coefs = [estimate.coef_ for estimate in lr.estimators_]\n",
    "    intercepts = [estimate.intercept_ for estimate in lr.estimators_]\n",
    "\n",
    "    # 初期値として与えられたprices_listを使用\n",
    "    initial_prices = np.full(M, 0.6)\n",
    "    # 各価格の範囲を設定（0.6から1.0）\n",
    "    bounds = [(0.6, 1.0) for _ in range(M)]\n",
    "    # 最適化を実行\n",
    "    result = minimize(\n",
    "        predict_objective_function,\n",
    "        initial_prices,\n",
    "        args=(intercepts, coefs, M),\n",
    "        bounds=bounds,\n",
    "        method=\"L-BFGS-B\",\n",
    "    )\n",
    "    # 最適な価格と目的関数の値を取得\n",
    "    optimal_prices = result.x\n",
    "    optimal_value = -result.fun  # 符号を反転して元の最大化問題の値に戻す\n",
    "    return optimal_value, optimal_prices"
   ]
  },
  {
   "cell_type": "code",
   "execution_count": 11,
   "metadata": {},
   "outputs": [],
   "source": [
    "# CVを行う関数\n",
    "def cross_validation_ub(\n",
    "    ub: list[float],\n",
    "    X: NDArray[np.float_],\n",
    "    y: NDArray[np.float_],\n",
    "    M: int,\n",
    "    K: int,\n",
    "    prices_list: list[float],\n",
    ") -> float:\n",
    "    kf = KFold(n_splits=K, shuffle=True, random_state=0)\n",
    "    optimal_sales_list = []\n",
    "\n",
    "    bounds = [(0.6, ub[m]) for m in range(M)]\n",
    "\n",
    "    for train_index, test_index in kf.split(X):\n",
    "        X_train, X_test = X[train_index], X[test_index]\n",
    "        y_train, y_test = y[train_index], y[test_index]\n",
    "\n",
    "        # trainで学習\n",
    "        lr_tilda = MultiOutputRegressor(LinearRegression())\n",
    "\n",
    "        # 係数、切片を取得\n",
    "        lr_tilda.fit(X_train, y_train)\n",
    "        coefs = [estimate.coef_ for estimate in lr_tilda.estimators_]\n",
    "        intercepts = [estimate.intercept_ for estimate in lr_tilda.estimators_]\n",
    "\n",
    "        # 初期値として与えられたprices_listを使用\n",
    "        initial_prices = np.full(M, 0.6)\n",
    "        # 各価格の範囲を設定（0.6から1.0）\n",
    "\n",
    "        # 最適化を実行\n",
    "        result = minimize(\n",
    "            predict_objective_function,\n",
    "            initial_prices,\n",
    "            args=(intercepts, coefs, M),\n",
    "            bounds=bounds,\n",
    "            method=\"L-BFGS-B\",\n",
    "        )\n",
    "        # 最適な価格と目的関数の値を取得\n",
    "        optimal_prices = result.x\n",
    "\n",
    "        # testで学習\n",
    "        lr_hat = MultiOutputRegressor(LinearRegression())\n",
    "        lr_hat.fit(X_test, y_test)\n",
    "\n",
    "        quantity_hat = lr_hat.predict([optimal_prices])\n",
    "        sales_hat = np.sum(quantity_hat * optimal_prices)\n",
    "\n",
    "        optimal_sales_list.append(sales_hat)\n",
    "\n",
    "    return -np.mean(optimal_sales_list)"
   ]
  },
  {
   "cell_type": "code",
   "execution_count": 12,
   "metadata": {},
   "outputs": [],
   "source": [
    "def esitimate_ub_nelder(ub, M, X, y, K, z, adaptive=True):\n",
    "    # adaptive=Trueの場合、optionsにadaptive=Trueを指定\n",
    "    bounds_nelder = minimize(\n",
    "        cross_validation_lb,\n",
    "        ub,\n",
    "        args=(X, y, M, K, z),\n",
    "        method=\"Nelder-Mead\",\n",
    "        bounds=[(0.6, 1.0) for _ in range(M)],\n",
    "        options={\"adaptive\": adaptive},\n",
    "    )\n",
    "    return bounds_nelder.fun, bounds_nelder.x"
   ]
  },
  {
   "cell_type": "code",
   "execution_count": 13,
   "metadata": {},
   "outputs": [],
   "source": [
    "M = 10\n",
    "alpha = alpha_star(M)\n",
    "beta = beta_star(M, M)\n",
    "r_m = 0.6\n",
    "r_M = 1.0\n",
    "# 価格を入れるリスト\n",
    "price_list = []\n",
    "# 売上を入れるリスト\n",
    "quantity_list = []\n",
    "\n",
    "# 価格と対応する売上を500件生成\n",
    "for i in range(500):\n",
    "    price = create_price(r_m, r_M, M)\n",
    "    price_list.append(price)\n",
    "    quantity = quantity_function(price, alpha, beta)\n",
    "    quantity_list.append(quantity)\n",
    "\n",
    "X = np.array(price_list).astype(float)\n",
    "y = np.array(quantity_list).astype(float)\n",
    "\n",
    "z = [0.6, 0.7, 0.8, 0.9, 1.0]\n",
    "\n",
    "lb = [0.6 for _ in range(M)]\n",
    "\n",
    "ub = [1.0 for _ in range(M)]"
   ]
  },
  {
   "cell_type": "code",
   "execution_count": 14,
   "metadata": {},
   "outputs": [],
   "source": [
    "esitimate_lb_nelder_val_10, esitimate_lb_nelder_x_10 = esitimate_lb_nelder(lb, M, X, y, 5, z)"
   ]
  },
  {
   "cell_type": "code",
   "execution_count": 15,
   "metadata": {},
   "outputs": [
    {
     "data": {
      "text/plain": [
       "array([0.60776664, 0.60061517, 0.6       , 0.60941936, 0.60226671,\n",
       "       0.60297635, 0.60058429, 0.6001315 , 0.60886766, 0.6045044 ])"
      ]
     },
     "execution_count": 15,
     "metadata": {},
     "output_type": "execute_result"
    }
   ],
   "source": [
    "esitimate_lb_nelder_x_10"
   ]
  },
  {
   "cell_type": "code",
   "execution_count": 16,
   "metadata": {},
   "outputs": [
    {
     "data": {
      "text/plain": [
       "-121.1733935826351"
      ]
     },
     "execution_count": 16,
     "metadata": {},
     "output_type": "execute_result"
    }
   ],
   "source": [
    "esitimate_lb_nelder_val_10"
   ]
  },
  {
   "cell_type": "code",
   "execution_count": 17,
   "metadata": {},
   "outputs": [],
   "source": [
    "esitimate_ub_nelder_val_10, esitimate_ub_nelder_x_10 = esitimate_ub_nelder(ub, M, X, y, 5, z)"
   ]
  },
  {
   "cell_type": "code",
   "execution_count": 18,
   "metadata": {},
   "outputs": [
    {
     "data": {
      "text/plain": [
       "-121.30681120754582"
      ]
     },
     "execution_count": 18,
     "metadata": {},
     "output_type": "execute_result"
    }
   ],
   "source": [
    "esitimate_ub_nelder_val_10"
   ]
  },
  {
   "cell_type": "code",
   "execution_count": 19,
   "metadata": {},
   "outputs": [
    {
     "data": {
      "text/plain": [
       "array([0.93308548, 0.93743848, 0.60131709, 0.94609848, 0.94544615,\n",
       "       0.75760996, 0.93074529, 0.95164446, 0.9663256 , 1.        ])"
      ]
     },
     "execution_count": 19,
     "metadata": {},
     "output_type": "execute_result"
    }
   ],
   "source": [
    "esitimate_ub_nelder_x_10"
   ]
  },
  {
   "cell_type": "code",
   "execution_count": 20,
   "metadata": {},
   "outputs": [],
   "source": [
    "# M =20\n",
    "M = 20\n",
    "alpha = alpha_star(M)\n",
    "beta = beta_star(M, M)\n",
    "r_m = 0.6\n",
    "r_M = 1.0\n",
    "# 価格を入れるリスト\n",
    "price_list = []\n",
    "# 売上を入れるリスト\n",
    "quantity_list = []\n",
    "\n",
    "# 価格と対応する売上を500件生成\n",
    "for i in range(500):\n",
    "    price = create_price(r_m, r_M, M)\n",
    "    price_list.append(price)\n",
    "    quantity = quantity_function(price, alpha, beta)\n",
    "    quantity_list.append(quantity)\n",
    "\n",
    "\n",
    "X = np.array(price_list).astype(float)\n",
    "y = np.array(quantity_list).astype(float)\n",
    "\n",
    "\n",
    "z = [0.6, 0.7, 0.8, 0.9, 1.0]\n",
    "\n",
    "lb = [0.6 for _ in range(M)]\n",
    "\n",
    "ub = [1.0 for _ in range(M)]\n",
    "\n",
    "esitimate_lb_nelder_val_20, esitimate_lb_nelder_x_20 = esitimate_lb_nelder(lb, M, X, y, 5, z)\n",
    "\n",
    "esitimate_ub_nelder_val_20, esitimate_ub_nelder_x_20 = esitimate_ub_nelder(ub, M, X, y, 5, z)\n"
   ]
  },
  {
   "cell_type": "code",
   "execution_count": 21,
   "metadata": {},
   "outputs": [
    {
     "data": {
      "text/plain": [
       "array([0.60896163, 0.61196227, 0.61398809, 0.64799303, 0.60666934,\n",
       "       0.6236495 , 0.60775417, 0.63622405, 0.60893563, 0.6       ,\n",
       "       0.62231398, 0.64478541, 0.63248749, 0.73296149, 0.69880441,\n",
       "       0.63817199, 0.61947751, 0.62997328, 0.75344931, 0.64440915])"
      ]
     },
     "execution_count": 21,
     "metadata": {},
     "output_type": "execute_result"
    }
   ],
   "source": [
    "esitimate_lb_nelder_x_20"
   ]
  },
  {
   "cell_type": "code",
   "execution_count": 22,
   "metadata": {},
   "outputs": [
    {
     "data": {
      "text/plain": [
       "-446.98734163837946"
      ]
     },
     "execution_count": 22,
     "metadata": {},
     "output_type": "execute_result"
    }
   ],
   "source": [
    "esitimate_lb_nelder_val_20"
   ]
  },
  {
   "cell_type": "code",
   "execution_count": 23,
   "metadata": {},
   "outputs": [
    {
     "data": {
      "text/plain": [
       "array([0.95839004, 0.81079632, 0.97392382, 0.81306904, 0.79115758,\n",
       "       0.87999059, 0.92513665, 1.        , 0.87826464, 0.60018362,\n",
       "       0.94971878, 0.76832858, 0.83605703, 0.73519944, 0.70031315,\n",
       "       0.8618365 , 0.90933614, 0.89334665, 0.75580533, 0.93943498])"
      ]
     },
     "execution_count": 23,
     "metadata": {},
     "output_type": "execute_result"
    }
   ],
   "source": [
    "esitimate_ub_nelder_x_20"
   ]
  },
  {
   "cell_type": "code",
   "execution_count": 24,
   "metadata": {},
   "outputs": [
    {
     "data": {
      "text/plain": [
       "-447.4968397878467"
      ]
     },
     "execution_count": 24,
     "metadata": {},
     "output_type": "execute_result"
    }
   ],
   "source": [
    "esitimate_ub_nelder_val_20"
   ]
  },
  {
   "cell_type": "code",
   "execution_count": 25,
   "metadata": {},
   "outputs": [],
   "source": [
    "# M = 30\n",
    "M = 30\n",
    "\n",
    "alpha = alpha_star(M)\n",
    "beta = beta_star(M, M)\n",
    "r_m = 0.6\n",
    "r_M = 1.0\n",
    "# 価格を入れるリスト\n",
    "price_list = []\n",
    "# 売上を入れるリスト\n",
    "quantity_list = []\n",
    "\n",
    "# 価格と対応する売上を500件生成\n",
    "for i in range(500):\n",
    "    price = create_price(r_m, r_M, M)\n",
    "    price_list.append(price)\n",
    "    quantity = quantity_function(price, alpha, beta)\n",
    "    quantity_list.append(quantity)\n",
    "\n",
    "\n",
    "X = np.array(price_list).astype(float)\n",
    "y = np.array(quantity_list).astype(float)\n",
    "\n",
    "\n",
    "z = [0.6, 0.7, 0.8, 0.9, 1.0]\n",
    "\n",
    "lb = [0.6 for _ in range(M)]\n",
    "\n",
    "ub = [1.0 for _ in range(M)]\n",
    "\n",
    "estimate_lb_nelder_val_30, esitimate_lb_nelder_x_30 = esitimate_lb_nelder(lb, M, X, y, 5, z)\n",
    "\n",
    "esitimate_ub_nelder_val_30, esitimate_ub_nelder_x_30 = esitimate_ub_nelder(ub, M, X, y, 5, z)\n"
   ]
  },
  {
   "cell_type": "code",
   "execution_count": 26,
   "metadata": {},
   "outputs": [
    {
     "data": {
      "text/plain": [
       "array([0.610923  , 0.63626872, 0.61724643, 0.63045103, 0.66199352,\n",
       "       0.62128998, 0.6000244 , 0.73549225, 0.69719678, 0.62662285,\n",
       "       0.6333611 , 0.6280546 , 0.60220315, 0.63601679, 0.64350982,\n",
       "       0.62048473, 0.61321079, 0.65260868, 0.6       , 0.61974112,\n",
       "       0.60096907, 0.61857691, 0.63900324, 0.76623627, 0.62459819,\n",
       "       0.60143062, 0.60571084, 0.64329794, 0.60760994, 0.62112242])"
      ]
     },
     "execution_count": 26,
     "metadata": {},
     "output_type": "execute_result"
    }
   ],
   "source": [
    "esitimate_lb_nelder_x_30"
   ]
  },
  {
   "cell_type": "code",
   "execution_count": 27,
   "metadata": {},
   "outputs": [
    {
     "data": {
      "text/plain": [
       "-798.4489635140787"
      ]
     },
     "execution_count": 27,
     "metadata": {},
     "output_type": "execute_result"
    }
   ],
   "source": [
    "estimate_lb_nelder_val_30"
   ]
  },
  {
   "cell_type": "code",
   "execution_count": 28,
   "metadata": {},
   "outputs": [
    {
     "data": {
      "text/plain": [
       "array([0.96270773, 0.86532021, 0.62492819, 1.        , 0.65948545,\n",
       "       0.87642377, 0.85473465, 0.73869897, 0.79138568, 0.6140682 ,\n",
       "       0.89228063, 0.62897215, 0.96995702, 0.92247423, 0.96124896,\n",
       "       0.9349    , 0.8272326 , 0.94781336, 0.60953453, 0.78107835,\n",
       "       0.76606436, 0.82891984, 0.98107102, 0.77795619, 0.8133279 ,\n",
       "       0.9523592 , 0.84788128, 0.82183001, 0.62511801, 0.69406324])"
      ]
     },
     "execution_count": 28,
     "metadata": {},
     "output_type": "execute_result"
    }
   ],
   "source": [
    "esitimate_ub_nelder_x_30"
   ]
  },
  {
   "cell_type": "code",
   "execution_count": 29,
   "metadata": {},
   "outputs": [
    {
     "data": {
      "text/plain": [
       "array([0.96270773, 0.86532021, 0.62492819, 1.        , 0.65948545,\n",
       "       0.87642377, 0.85473465, 0.73869897, 0.79138568, 0.6140682 ,\n",
       "       0.89228063, 0.62897215, 0.96995702, 0.92247423, 0.96124896,\n",
       "       0.9349    , 0.8272326 , 0.94781336, 0.60953453, 0.78107835,\n",
       "       0.76606436, 0.82891984, 0.98107102, 0.77795619, 0.8133279 ,\n",
       "       0.9523592 , 0.84788128, 0.82183001, 0.62511801, 0.69406324])"
      ]
     },
     "execution_count": 29,
     "metadata": {},
     "output_type": "execute_result"
    }
   ],
   "source": [
    "esitimate_ub_nelder_x_30"
   ]
  },
  {
   "cell_type": "code",
   "execution_count": 30,
   "metadata": {},
   "outputs": [],
   "source": [
    "# M = 40\n",
    "M = 40\n",
    "\n",
    "alpha = alpha_star(M)\n",
    "beta = beta_star(M, M)\n",
    "\n",
    "r_m = 0.6\n",
    "r_M = 1.0\n",
    "# 価格を入れるリスト\n",
    "price_list = []\n",
    "# 売上を入れるリスト\n",
    "quantity_list = []\n",
    "\n",
    "# 価格と対応する売上を500件生成\n",
    "for i in range(500):\n",
    "    price = create_price(r_m, r_M, M)\n",
    "    price_list.append(price)\n",
    "    quantity = quantity_function(price, alpha, beta)\n",
    "    quantity_list.append(quantity)\n",
    "\n",
    "\n",
    "X = np.array(price_list).astype(float)\n",
    "y = np.array(quantity_list).astype(float)\n",
    "\n",
    "\n",
    "z = [0.6, 0.7, 0.8, 0.9, 1.0]\n",
    "\n",
    "lb = [0.6 for _ in range(M)]\n",
    "\n",
    "ub = [1.0 for _ in range(M)]\n",
    "\n",
    "esitimate_lb_nelder_val_40, esitimate_lb_nelder_x_40 = esitimate_lb_nelder(lb, M, X, y, 5, z)\n",
    "\n",
    "esitimate_ub_nelder_val_40, esitimate_ub_nelder_x_40 = esitimate_ub_nelder(ub, M, X, y, 5, z)\n"
   ]
  },
  {
   "cell_type": "code",
   "execution_count": 31,
   "metadata": {},
   "outputs": [
    {
     "data": {
      "text/plain": [
       "array([0.62361964, 0.64502439, 0.6       , 0.61975522, 0.61895017,\n",
       "       0.65946362, 0.6105385 , 0.63572359, 0.6597171 , 0.60954285,\n",
       "       0.63592612, 0.66740874, 0.64184827, 0.65675147, 0.63647906,\n",
       "       0.76771389, 0.68192217, 0.62844324, 0.63238027, 0.60876389,\n",
       "       0.64524133, 0.61341658, 0.61405147, 0.62211412, 0.60400292,\n",
       "       0.62661732, 0.62304703, 0.64788528, 0.63010476, 0.67185597,\n",
       "       0.60701849, 0.64933208, 0.82271383, 0.64159372, 0.64917942,\n",
       "       0.640565  , 0.61526416, 0.64897672, 0.77746969, 0.65598908])"
      ]
     },
     "execution_count": 31,
     "metadata": {},
     "output_type": "execute_result"
    }
   ],
   "source": [
    "esitimate_lb_nelder_x_40"
   ]
  },
  {
   "cell_type": "code",
   "execution_count": 32,
   "metadata": {},
   "outputs": [
    {
     "data": {
      "text/plain": [
       "-1768.3584689256338"
      ]
     },
     "execution_count": 32,
     "metadata": {},
     "output_type": "execute_result"
    }
   ],
   "source": [
    "esitimate_lb_nelder_val_40"
   ]
  },
  {
   "cell_type": "code",
   "execution_count": 33,
   "metadata": {},
   "outputs": [
    {
     "data": {
      "text/plain": [
       "array([0.99723759, 0.99951026, 0.60012389, 0.98561306, 0.99788819,\n",
       "       0.99459201, 0.92517889, 1.        , 0.91065085, 0.80149636,\n",
       "       0.95207271, 0.94134437, 0.96669323, 0.9106261 , 0.90537754,\n",
       "       0.7710141 , 0.99579313, 0.91290046, 0.92108857, 0.95221319,\n",
       "       0.95946389, 0.80380796, 0.9289922 , 0.99954695, 0.60034098,\n",
       "       0.94597529, 0.99360621, 0.90106583, 0.99150287, 0.91578151,\n",
       "       0.85800925, 0.67734772, 0.82702871, 0.94178755, 0.98897896,\n",
       "       0.94541362, 0.84432737, 0.9579824 , 0.79010964, 0.91979097])"
      ]
     },
     "execution_count": 33,
     "metadata": {},
     "output_type": "execute_result"
    }
   ],
   "source": [
    "esitimate_ub_nelder_x_40"
   ]
  },
  {
   "cell_type": "code",
   "execution_count": 34,
   "metadata": {},
   "outputs": [
    {
     "data": {
      "text/plain": [
       "-1788.2407029293931"
      ]
     },
     "execution_count": 34,
     "metadata": {},
     "output_type": "execute_result"
    }
   ],
   "source": [
    "esitimate_ub_nelder_val_40"
   ]
  },
  {
   "cell_type": "code",
   "execution_count": 35,
   "metadata": {},
   "outputs": [],
   "source": [
    "# M = 50\n",
    "M = 50\n",
    "\n",
    "alpha = alpha_star(M)\n",
    "beta = beta_star(M, M)\n",
    "r_m = 0.6\n",
    "r_M = 1.0\n",
    "\n",
    "# 価格を入れるリスト\n",
    "price_list = []\n",
    "# 売上を入れるリスト\n",
    "quantity_list = []\n",
    "\n",
    "# 価格と対応する売上を500件生成\n",
    "for i in range(500):\n",
    "    price = create_price(r_m, r_M, M)\n",
    "    price_list.append(price)\n",
    "    quantity = quantity_function(price, alpha, beta)\n",
    "    quantity_list.append(quantity)\n",
    "\n",
    "\n",
    "X = np.array(price_list).astype(float)\n",
    "y = np.array(quantity_list).astype(float)\n",
    "\n",
    "\n",
    "z = [0.6, 0.7, 0.8, 0.9, 1.0]\n",
    "\n",
    "lb = [0.6 for _ in range(M)]\n",
    "\n",
    "ub = [1.0 for _ in range(M)]\n",
    "\n",
    "esitimate_lb_nelder_val_50, esitimate_lb_nelder_x_50 = esitimate_lb_nelder(lb, M, X, y, 5, z)\n",
    "\n",
    "\n",
    "esitimate_ub_nelder_val_50, esitimate_ub_nelder_x_50 = esitimate_ub_nelder(ub, M, X, y, 5, z)\n"
   ]
  },
  {
   "cell_type": "code",
   "execution_count": 36,
   "metadata": {},
   "outputs": [
    {
     "data": {
      "text/plain": [
       "array([0.62004832, 0.65675416, 0.60767159, 0.61408478, 0.65318036,\n",
       "       0.6410807 , 0.64599938, 0.60284301, 0.61238089, 0.64850064,\n",
       "       0.62743836, 0.63294921, 0.60935488, 0.60660821, 0.63914821,\n",
       "       0.60877849, 0.66158937, 0.60609799, 0.61214439, 0.60657103,\n",
       "       0.64542431, 0.60835843, 0.60482525, 0.66118864, 0.60768749,\n",
       "       0.62186441, 0.60875405, 0.64242582, 0.65409269, 0.64727782,\n",
       "       0.60655999, 0.6       , 0.60848972, 0.62933901, 0.64461824,\n",
       "       0.61506853, 0.62473601, 0.61596989, 0.66486192, 0.64909475,\n",
       "       0.61050668, 0.60930874, 0.83241293, 0.63860001, 0.65159137,\n",
       "       0.65779262, 0.66113795, 0.61075365, 0.66155869, 0.91919697])"
      ]
     },
     "execution_count": 36,
     "metadata": {},
     "output_type": "execute_result"
    }
   ],
   "source": [
    "esitimate_lb_nelder_x_50"
   ]
  },
  {
   "cell_type": "code",
   "execution_count": 37,
   "metadata": {},
   "outputs": [
    {
     "data": {
      "text/plain": [
       "-2787.8618422217883"
      ]
     },
     "execution_count": 37,
     "metadata": {},
     "output_type": "execute_result"
    }
   ],
   "source": [
    "esitimate_lb_nelder_val_50"
   ]
  },
  {
   "cell_type": "code",
   "execution_count": 38,
   "metadata": {},
   "outputs": [
    {
     "data": {
      "text/plain": [
       "array([0.99938798, 0.94425781, 0.99839963, 0.93586714, 0.98358051,\n",
       "       0.86672632, 0.99681832, 0.99644828, 0.99425831, 0.99966562,\n",
       "       0.92461303, 0.99901595, 0.85068263, 0.81769289, 0.96110865,\n",
       "       0.98256336, 0.71760802, 0.99949232, 0.98389619, 0.99994932,\n",
       "       1.        , 0.99983304, 0.99533005, 0.92999535, 0.81358691,\n",
       "       0.99931215, 0.99991062, 0.99958378, 0.98082576, 0.66056449,\n",
       "       0.97352604, 0.60343246, 0.99933446, 0.94526234, 0.97806466,\n",
       "       0.99996154, 0.99974094, 0.99992281, 0.88003952, 0.99964019,\n",
       "       0.99415915, 0.99401338, 0.8455081 , 0.99884012, 0.97077446,\n",
       "       0.9859544 , 0.88769528, 0.99191694, 0.9298634 , 0.91731018])"
      ]
     },
     "execution_count": 38,
     "metadata": {},
     "output_type": "execute_result"
    }
   ],
   "source": [
    "esitimate_ub_nelder_x_50"
   ]
  },
  {
   "cell_type": "code",
   "execution_count": 39,
   "metadata": {},
   "outputs": [
    {
     "data": {
      "text/plain": [
       "-2834.38504412673"
      ]
     },
     "execution_count": 39,
     "metadata": {},
     "output_type": "execute_result"
    }
   ],
   "source": [
    "esitimate_ub_nelder_val_50"
   ]
  },
  {
   "cell_type": "code",
   "execution_count": null,
   "metadata": {},
   "outputs": [],
   "source": []
  },
  {
   "cell_type": "code",
   "execution_count": null,
   "metadata": {},
   "outputs": [],
   "source": []
  },
  {
   "cell_type": "code",
   "execution_count": null,
   "metadata": {},
   "outputs": [],
   "source": []
  },
  {
   "cell_type": "code",
   "execution_count": null,
   "metadata": {},
   "outputs": [],
   "source": []
  },
  {
   "cell_type": "code",
   "execution_count": null,
   "metadata": {},
   "outputs": [],
   "source": []
  },
  {
   "cell_type": "code",
   "execution_count": null,
   "metadata": {},
   "outputs": [],
   "source": []
  },
  {
   "cell_type": "code",
   "execution_count": null,
   "metadata": {},
   "outputs": [],
   "source": []
  },
  {
   "cell_type": "code",
   "execution_count": null,
   "metadata": {},
   "outputs": [],
   "source": []
  },
  {
   "cell_type": "code",
   "execution_count": null,
   "metadata": {},
   "outputs": [],
   "source": []
  },
  {
   "cell_type": "code",
   "execution_count": null,
   "metadata": {},
   "outputs": [],
   "source": []
  }
 ],
 "metadata": {
  "kernelspec": {
   "display_name": ".venv",
   "language": "python",
   "name": "python3"
  },
  "language_info": {
   "codemirror_mode": {
    "name": "ipython",
    "version": 3
   },
   "file_extension": ".py",
   "mimetype": "text/x-python",
   "name": "python",
   "nbconvert_exporter": "python",
   "pygments_lexer": "ipython3",
   "version": "3.10.13"
  }
 },
 "nbformat": 4,
 "nbformat_minor": 2
}
