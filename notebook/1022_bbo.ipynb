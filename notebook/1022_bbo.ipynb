{
 "cells": [
  {
   "cell_type": "code",
   "execution_count": 1,
   "metadata": {},
   "outputs": [],
   "source": [
    "import matplotlib.pyplot as plt\n",
    "import numpy as np\n",
    "import pandas as pd\n",
    "from scipy.optimize import minimize\n",
    "from sklearn.linear_model import LinearRegression\n",
    "from sklearn.model_selection import KFold\n",
    "from sklearn.model_selection import train_test_split\n",
    "from sklearn.multioutput import MultiOutputRegressor\n",
    "from numpy.typing import NDArray\n"
   ]
  },
  {
   "cell_type": "code",
   "execution_count": 2,
   "metadata": {},
   "outputs": [],
   "source": [
    "# 価格を生成する関数\n",
    "def create_price(r_min: float, r_max: float, M: int) -> NDArray[np.float_]:\n",
    "    # r_minとr_maxの間のランダムな0.1刻みの少数をM個生成\n",
    "    price = np.random.uniform(r_min, r_max, M)\n",
    "    price = np.round(price, 1)\n",
    "\n",
    "    return price\n",
    "\n",
    "\n",
    "# alphaを作成する関数\n",
    "def alpha_star(M: int) -> NDArray[np.float_]:\n",
    "    alpha_star = np.random.uniform(M, 3 * M, size=M)\n",
    "    return alpha_star\n",
    "\n",
    "\n",
    "# betaを作成する関数\n",
    "def beta_star(M: int, M_prime: int) -> NDArray[np.float_]:\n",
    "    beta_star = np.zeros((M, M_prime))\n",
    "\n",
    "    for m in range(M):\n",
    "        for m_prime in range(M_prime):\n",
    "            if m == m_prime:\n",
    "                beta_star[m, m_prime] = np.random.uniform(-2 * M, -M)\n",
    "            else:\n",
    "                beta_star[m, m_prime] = np.random.uniform(0, 1)\n",
    "\n",
    "    return beta_star\n",
    "\n",
    "\n",
    "def quantity_function(\n",
    "    price: NDArray[np.float_], alpha: NDArray[np.float_], beta: NDArray[np.float_]\n",
    ") -> list[float]:\n",
    "    M = len(price)\n",
    "    quantity_list = []\n",
    "\n",
    "    for m in range(M):\n",
    "        sum_beta = 0\n",
    "        for m_prime in range(M):\n",
    "            sum_beta += beta[m][m_prime] * price[m_prime]\n",
    "\n",
    "        quantity = alpha[m] + sum_beta\n",
    "        quantity_list.append(quantity)\n",
    "\n",
    "    return quantity_list\n",
    "\n",
    "\n",
    "def sales_function(\n",
    "    price: NDArray[np.float_], alpha: NDArray[np.float_], beta: NDArray[np.float_]\n",
    ") -> list[float]:\n",
    "    M = len(price)\n",
    "    sales = 0\n",
    "\n",
    "    for m in range(M):\n",
    "        sum_beta = 0\n",
    "        for m_prime in range(M):\n",
    "            sum_beta += beta[m][m_prime] * price[m_prime]\n",
    "\n",
    "        quantity = alpha[m] + sum_beta\n",
    "        sales += quantity * price[m]\n",
    "\n",
    "    return -sales\n"
   ]
  },
  {
   "cell_type": "code",
   "execution_count": 3,
   "metadata": {},
   "outputs": [],
   "source": [
    "def objective_function(\n",
    "    price: NDArray[np.float_], coefs: NDArray[np.float_], intercept: NDArray[np.float_]\n",
    ") -> float:\n",
    "    M = len(price)\n",
    "    sales = 0\n",
    "\n",
    "    for m in range(M):\n",
    "        quantity = 0\n",
    "        for m_prime in range(M):\n",
    "            quantity += coefs[m][m_prime] * price[m_prime]\n",
    "\n",
    "        sales += (intercept[m] + quantity) * price[m]\n",
    "\n",
    "    return -sales\n"
   ]
  },
  {
   "cell_type": "code",
   "execution_count": 4,
   "metadata": {},
   "outputs": [],
   "source": [
    "# このデータにおけるalpha,betaを作成\n",
    "M = 20\n",
    "alpha = alpha_star(M)\n",
    "beta = beta_star(M, M)\n",
    "r_m = 0.6\n",
    "r_M = 1.0\n",
    "# 価格を入れるリスト\n",
    "price_list = []\n",
    "# 売上を入れるリスト\n",
    "quantity_list = []\n",
    "\n",
    "# 価格と対応する売上を10000件生成\n",
    "for i in range(500):\n",
    "    price = create_price(r_m, r_M, M)\n",
    "    price_list.append(price)\n",
    "    quantity = quantity_function(price, alpha, beta)\n",
    "    quantity_list.append(quantity)\n",
    "\n",
    "X = np.array(price_list).astype(float)\n",
    "y = np.array(quantity_list).astype(float)\n"
   ]
  },
  {
   "cell_type": "code",
   "execution_count": 5,
   "metadata": {},
   "outputs": [],
   "source": [
    "initial_prices = np.full(M, r_m)"
   ]
  },
  {
   "cell_type": "code",
   "execution_count": 6,
   "metadata": {},
   "outputs": [
    {
     "name": "stdout",
     "output_type": "stream",
     "text": [
      "Optimal Prices: [0.83086568 0.6        0.95229433 1.         0.9174278  1.\n",
      " 0.9942948  0.928105   0.98737484 0.99998942 0.87262073 0.82329825\n",
      " 0.89527913 0.75171069 0.99971072 0.99899516 0.61488743 0.83816133\n",
      " 0.63337908 0.93034123]\n",
      "Optimal Sales: 379.16628441078603\n"
     ]
    }
   ],
   "source": [
    "lr = MultiOutputRegressor(LinearRegression())\n",
    "lr.fit(X, y)\n",
    "coefs = [lr.estimators_[m].coef_ for m in range(M)]\n",
    "intercept = [lr.estimators_[m].intercept_ for m in range(M)]\n",
    "\n",
    "# Nelder-Mead法を用いて最適化\n",
    "result = minimize(\n",
    "    objective_function,\n",
    "    initial_prices,\n",
    "    args=(coefs, intercept),\n",
    "    method=\"Nelder-Mead\",\n",
    "    bounds=[(r_m, r_M)] * M,\n",
    "    options={\"adaptive\": True},\n",
    ")\n",
    "\n",
    "# 最適化された価格\n",
    "optimal_prices_pred = result.x\n",
    "\n",
    "print(\"Optimal Prices:\", optimal_prices_pred)\n",
    "\n",
    "optimal_sales_pred = -result.fun\n",
    "print(\"Optimal Sales:\", optimal_sales_pred)\n"
   ]
  },
  {
   "cell_type": "code",
   "execution_count": 7,
   "metadata": {},
   "outputs": [
    {
     "name": "stdout",
     "output_type": "stream",
     "text": [
      "Optimal Prices: [0.83086568 0.6        0.95229433 1.         0.9174278  1.\n",
      " 0.9942948  0.928105   0.98737484 0.99998942 0.87262073 0.82329825\n",
      " 0.89527913 0.75171069 0.99971072 0.99899516 0.61488743 0.83816133\n",
      " 0.63337908 0.93034123]\n",
      "Optimal Sales: 379.16628441078626\n"
     ]
    }
   ],
   "source": [
    "# Nerdar-Mead法を用いてsales_functionを最適化\n",
    "result = minimize(\n",
    "    sales_function,\n",
    "    initial_prices,\n",
    "    args=(alpha, beta),\n",
    "    method=\"Nelder-Mead\",\n",
    "    bounds=[(r_m, r_M)] * M,\n",
    "    options={\"adaptive\": True},\n",
    ")\n",
    "\n",
    "optimal_prices = result.x\n",
    "\n",
    "print(\"Optimal Prices:\", optimal_prices)\n",
    "\n",
    "optimal_sales = -result.fun\n",
    "print(\"Optimal Sales:\", optimal_sales)\n"
   ]
  },
  {
   "cell_type": "code",
   "execution_count": 8,
   "metadata": {},
   "outputs": [
    {
     "name": "stdout",
     "output_type": "stream",
     "text": [
      "Dash Sales: 379.16628441078626\n"
     ]
    }
   ],
   "source": [
    "dash_sales = -sales_function(optimal_prices_pred, alpha, beta)\n",
    "print(\"Dash Sales:\", dash_sales)\n"
   ]
  },
  {
   "cell_type": "code",
   "execution_count": 9,
   "metadata": {},
   "outputs": [],
   "source": [
    "# cross validationを実装\n",
    "kf = KFold(n_splits=5, shuffle=True, random_state=0)\n",
    "\n",
    "cv_sales_list = []\n",
    "\n",
    "for train_index, test_index in kf.split(X):\n",
    "    X_train, X_test = X[train_index], X[test_index]\n",
    "    y_train, y_test = y[train_index], y[test_index]\n",
    "\n",
    "    lr = MultiOutputRegressor(LinearRegression())\n",
    "    lr.fit(X_train, y_train)\n",
    "    coefs_tilda = [lr.estimators_[m].coef_ for m in range(M)]\n",
    "    intercept_tilda = [lr.estimators_[m].intercept_ for m in range(M)]\n",
    "\n",
    "    result = minimize(\n",
    "        objective_function,\n",
    "        initial_prices,\n",
    "        args=(coefs_tilda, intercept_tilda),\n",
    "        method=\"Nelder-Mead\",\n",
    "        bounds=[(r_m, r_M)] * M,\n",
    "        options={\"adaptive\": True},\n",
    "    )\n",
    "\n",
    "    optimal_prices_pred = result.x\n",
    "\n",
    "    lr_hat = MultiOutputRegressor(LinearRegression())\n",
    "    lr_hat.fit(X_test, y_test)\n",
    "    coefs_hat = [lr_hat.estimators_[m].coef_ for m in range(M)]\n",
    "    intercept_hat = [lr_hat.estimators_[m].intercept_ for m in range(M)]\n",
    "    cv_sales = -objective_function(optimal_prices_pred, coefs_hat, intercept_hat)\n",
    "\n",
    "    cv_sales_list.append(cv_sales)\n",
    "\n",
    "cv_sales = np.mean(cv_sales_list)\n"
   ]
  },
  {
   "cell_type": "code",
   "execution_count": 10,
   "metadata": {},
   "outputs": [
    {
     "name": "stdout",
     "output_type": "stream",
     "text": [
      "CV Sales: 379.16628441078626\n"
     ]
    }
   ],
   "source": [
    "print(\"CV Sales:\", cv_sales)"
   ]
  },
  {
   "cell_type": "code",
   "execution_count": 11,
   "metadata": {},
   "outputs": [
    {
     "data": {
      "image/png": "[encoded data removed]",
      "text/plain": [
       "<Figure size 640x480 with 1 Axes>"
      ]
     },
     "metadata": {},
     "output_type": "display_data"
    }
   ],
   "source": [
    "plt.bar(\n",
    "    [\n",
    "        r\"$f(z^*,\\theta^*)$\",\n",
    "        r\"$f(\\hat{z},\\hat\\theta)$\",\n",
    "        r\"$f(\\hat{z},\\theta^*)$\",\n",
    "        r\"k-fold\",\n",
    "    ],\n",
    "    [\n",
    "        optimal_sales / optimal_sales,\n",
    "        optimal_sales_pred / optimal_sales,\n",
    "        dash_sales / optimal_sales,\n",
    "        cv_sales / optimal_sales,\n",
    "    ],\n",
    "    color=[\"red\", \"blue\", \"green\", \"orange\"],\n",
    ")\n",
    "plt.yscale(\"log\")\n",
    "\n",
    "plt.show()\n"
   ]
  },
  {
   "cell_type": "code",
   "execution_count": 14,
   "metadata": {},
   "outputs": [],
   "source": [
    "def create_date(M: int):\n",
    "    alpha = alpha_star(M)\n",
    "    beta = beta_star(M, M)\n",
    "    r_m = 0.6\n",
    "    r_M = 1.0\n",
    "    price_list = []\n",
    "    quantity_list = []\n",
    "\n",
    "    # 価格と対応する売上を500件生成\n",
    "    for i in range(500):\n",
    "        price = create_price(r_m, r_M, M)\n",
    "        price_list.append(price)\n",
    "        quantity = quantity_function(price, alpha, beta)\n",
    "        quantity_list.append(quantity)\n",
    "\n",
    "    X = np.array(price_list).astype(float)\n",
    "    y = np.array(quantity_list).astype(float)\n",
    "\n",
    "    return alpha, beta, X, y\n"
   ]
  },
  {
   "cell_type": "code",
   "execution_count": 15,
   "metadata": {},
   "outputs": [],
   "source": [
    "def pred_neldar(M, X, y, initial_prices):\n",
    "    lr = MultiOutputRegressor(LinearRegression())\n",
    "    lr.fit(X, y)\n",
    "\n",
    "    coefs = [lr.estimators_[m].coef_ for m in range(M)]\n",
    "    intercept = [lr.estimators_[m].intercept_ for m in range(M)]\n",
    "\n",
    "    # Nelder-Mead法を用いて最適化\n",
    "    result = minimize(\n",
    "        objective_function,\n",
    "        initial_prices,\n",
    "        args=(coefs, intercept),\n",
    "        method=\"Nelder-Mead\",\n",
    "        bounds=[(0.6, 1.0)] * M,  # assuming r_m = 0.6 and r_M = 1.0\n",
    "        options={\"adaptive\": True},\n",
    "    )\n",
    "\n",
    "    # 最適化された価格\n",
    "    optimal_prices_pred = result.x\n",
    "    optimal_sales_pred = -result.fun\n",
    "\n",
    "    return optimal_prices_pred, optimal_sales_pred\n"
   ]
  },
  {
   "cell_type": "code",
   "execution_count": 16,
   "metadata": {},
   "outputs": [],
   "source": [
    "def sfuc_neldar(M, alpha, beta, initial_prices):\n",
    "    # Nerdar-Mead法を用いてsales_functionを最適化\n",
    "    result = minimize(\n",
    "        sales_function,\n",
    "        initial_prices,\n",
    "        args=(alpha, beta),\n",
    "        method=\"Nelder-Mead\",\n",
    "        bounds=[(0.6, 1.0)] * M,  # assuming r_m = 0.6 and r_M = 1.0\n",
    "        options={\"adaptive\": True},\n",
    "    )\n",
    "\n",
    "    optimal_prices = result.x\n",
    "    optimal_sales = -result.fun\n",
    "\n",
    "    return optimal_prices, optimal_sales\n"
   ]
  },
  {
   "cell_type": "code",
   "execution_count": 17,
   "metadata": {},
   "outputs": [],
   "source": [
    "def cv_neldar(M, initial_prices, X, y):\n",
    "    # Cross-validation setup\n",
    "    kf = KFold(n_splits=5, shuffle=True, random_state=0)\n",
    "    cv_sales_list = []\n",
    "\n",
    "    for train_index, test_index in kf.split(X):\n",
    "        X_train, X_test = X[train_index], X[test_index]\n",
    "        y_train, y_test = y[train_index], y[test_index]\n",
    "\n",
    "        lr = MultiOutputRegressor(LinearRegression())\n",
    "        lr.fit(X_train, y_train)\n",
    "        coefs_tilda = [lr.estimators_[m].coef_ for m in range(M)]\n",
    "        intercept_tilda = [lr.estimators_[m].intercept_ for m in range(M)]\n",
    "\n",
    "        # Optimization using Nelder-Mead\n",
    "        result = minimize(\n",
    "            objective_function,\n",
    "            initial_prices,\n",
    "            args=(coefs_tilda, intercept_tilda),\n",
    "            method=\"Nelder-Mead\",\n",
    "            bounds=[(0.6, 1.0)] * M,  # assuming r_m = 0.6 and r_M = 1.0\n",
    "            options={\"adaptive\": True},\n",
    "        )\n",
    "\n",
    "        optimal_prices_pred = result.x\n",
    "\n",
    "        # Validation step\n",
    "        lr_hat = MultiOutputRegressor(LinearRegression())\n",
    "        lr_hat.fit(X_test, y_test)\n",
    "        coefs_hat = [lr_hat.estimators_[m].coef_ for m in range(M)]\n",
    "        intercept_hat = [lr_hat.estimators_[m].intercept_ for m in range(M)]\n",
    "\n",
    "        # Calculate sales using the test set's estimated coefficients\n",
    "        cv_sales = -objective_function(optimal_prices_pred, coefs_hat, intercept_hat)\n",
    "        cv_sales_list.append(cv_sales)\n",
    "\n",
    "    # Return the average sales across cross-validation folds\n",
    "    cv_sales = np.mean(cv_sales_list)\n",
    "\n",
    "    return cv_sales\n"
   ]
  },
  {
   "cell_type": "code",
   "execution_count": 18,
   "metadata": {},
   "outputs": [
    {
     "name": "stdout",
     "output_type": "stream",
     "text": [
      "Optimal Prices (Prediction): 457.9853536659798\n",
      "Optimal Sales (Prediction): 457.98535366598014\n",
      "Dash Sales: 457.98535366598014\n",
      "CV Sales: 457.98535366598014\n"
     ]
    }
   ],
   "source": [
    "alpha, beta, X, y = create_date(20)\n",
    "initial_prices = np.full(20, 0.6)\n",
    "optimal_prices_pred, optimal_sales_pred = pred_neldar(20, X, y, initial_prices)\n",
    "optimal_prices, optimal_sales = sfuc_neldar(20, alpha, beta, initial_prices)\n",
    "dash_sales = -sales_function(optimal_prices_pred, alpha, beta)\n",
    "cv_sales = cv_neldar(20, initial_prices, X, y)\n",
    "print(\"Optimal Prices (Prediction):\", optimal_sales_pred)\n",
    "print(\"Optimal Sales (Prediction):\", optimal_sales)\n",
    "print(\"Dash Sales:\", dash_sales)\n",
    "print(\"CV Sales:\", cv_sales)\n"
   ]
  },
  {
   "cell_type": "code",
   "execution_count": 19,
   "metadata": {},
   "outputs": [],
   "source": [
    "# 上の流れを1000回繰り返してそれぞれの結果をlistに格納\n",
    "optimal_sales_pred_list = []\n",
    "optimal_sales_list = []\n",
    "dash_sales_list = []\n",
    "cv_sales_list = []\n",
    "\n",
    "for i in range(100):\n",
    "    alpha, beta, X, y = create_date(20)\n",
    "    initial_prices = np.full(20, 0.6)\n",
    "    optimal_prices_pred, optimal_sales_pred = pred_neldar(20, X, y, initial_prices)\n",
    "    optimal_prices, optimal_sales = sfuc_neldar(20, alpha, beta, initial_prices)\n",
    "    dash_sales = -sales_function(optimal_prices_pred, alpha, beta)\n",
    "    cv_sales = cv_neldar(20, initial_prices, X, y)\n",
    "\n",
    "    optimal_sales_pred_list.append(optimal_sales_pred)\n",
    "    optimal_sales_list.append(optimal_sales)\n",
    "    dash_sales_list.append(dash_sales)\n",
    "    cv_sales_list.append(cv_sales)\n"
   ]
  },
  {
   "cell_type": "code",
   "execution_count": 20,
   "metadata": {},
   "outputs": [
    {
     "data": {
      "image/png": "[encoded data removed]",
      "text/plain": [
       "<Figure size 640x480 with 1 Axes>"
      ]
     },
     "metadata": {},
     "output_type": "display_data"
    }
   ],
   "source": [
    "# optimal_sales_pred_list, optimal_sales_list, dash_sales_list, cv_sales_listの平均を出す\n",
    "optimal_sales_pred_mean = np.mean(optimal_sales_pred_list)\n",
    "optimal_sales_mean = np.mean(optimal_sales_list)\n",
    "dash_sales_mean = np.mean(dash_sales_list)\n",
    "cv_sales_mean = np.mean(cv_sales_list)\n",
    "\n",
    "plt.bar(\n",
    "    [\n",
    "        r\"$f(z^*,\\theta^*)$\",\n",
    "        r\"$f(\\hat{z},\\hat\\theta)$\",\n",
    "        r\"$f(\\hat{z},\\theta^*)$\",\n",
    "        r\"k-fold\",\n",
    "    ],\n",
    "    [\n",
    "        optimal_sales_mean / optimal_sales_mean,\n",
    "        optimal_sales_pred_mean / optimal_sales_mean,\n",
    "        dash_sales_mean / optimal_sales_mean,\n",
    "        cv_sales_mean / optimal_sales_mean,\n",
    "    ],\n",
    "    color=[\"red\", \"blue\", \"green\", \"orange\"],\n",
    ")\n",
    "plt.yscale(\"log\")\n",
    "\n",
    "plt.show()\n"
   ]
  },
  {
   "cell_type": "code",
   "execution_count": 21,
   "metadata": {},
   "outputs": [],
   "source": [
    "def quantity_function_norm(\n",
    "    price: NDArray[np.float_], alpha: NDArray[np.float_], beta: NDArray[np.float_]\n",
    ") -> list[float]:\n",
    "    M = len(price)\n",
    "    quantity_list = []\n",
    "\n",
    "    for m in range(M):\n",
    "        sum_beta = 0\n",
    "        for m_prime in range(M):\n",
    "            sum_beta += beta[m][m_prime] * price[m_prime]\n",
    "\n",
    "        quantity = alpha[m] + sum_beta + 1 * np.random.normal(0, 5)\n",
    "        quantity_list.append(quantity)\n",
    "    print(\"quantity_list\", quantity_list)\n",
    "\n",
    "    return quantity_list\n",
    "\n",
    "\n",
    "def create_date_norm(M: int):\n",
    "    alpha = alpha_star(M)\n",
    "    beta = beta_star(M, M)\n",
    "    r_m = 0.6\n",
    "    r_M = 1.0\n",
    "    price_list = []\n",
    "    quantity_list = []\n",
    "\n",
    "    # 価格と対応する売上を500件生成\n",
    "    for i in range(500):\n",
    "        price = create_price(r_m, r_M, M)\n",
    "        price_list.append(price)\n",
    "        quantity = quantity_function_norm(price, alpha, beta)\n",
    "        quantity_list.append(quantity)\n",
    "\n",
    "    X = np.array(price_list).astype(float)\n",
    "    y = np.array(quantity_list).astype(float)\n",
    "\n",
    "    return alpha, beta, X, y\n"
   ]
  },
  {
   "cell_type": "code",
   "execution_count": 22,
   "metadata": {},
   "outputs": [],
   "source": [
    "# 上の流れを1000回繰り返してそれぞれの結果をlistに格納\n",
    "optimal_sales_pred_list_norm = []\n",
    "optimal_sales_list_norm = []\n",
    "dash_sales_list_norm = []\n",
    "cv_sales_list_norm = []\n",
    "\n",
    "for i in range(100):\n",
    "    alpha, beta, X, y = create_date(20)\n",
    "    initial_prices = np.full(20, 0.6)\n",
    "    optimal_prices_pred, optimal_sales_pred = pred_neldar(20, X, y, initial_prices)\n",
    "    optimal_prices, optimal_sales = sfuc_neldar(20, alpha, beta, initial_prices)\n",
    "    dash_sales = -sales_function(optimal_prices_pred, alpha, beta)\n",
    "    cv_sales = cv_neldar(20, initial_prices, X, y)\n",
    "\n",
    "    optimal_sales_pred_list_norm.append(optimal_sales_pred)\n",
    "    optimal_sales_list_norm.append(optimal_sales)\n",
    "    dash_sales_list_norm.append(dash_sales)\n",
    "    cv_sales_list_norm.append(cv_sales)\n"
   ]
  },
  {
   "cell_type": "code",
   "execution_count": 23,
   "metadata": {},
   "outputs": [
    {
     "data": {
      "image/png": "[encoded data removed]",
      "text/plain": [
       "<Figure size 640x480 with 1 Axes>"
      ]
     },
     "metadata": {},
     "output_type": "display_data"
    }
   ],
   "source": [
    "# optimal_sales_pred_list, optimal_sales_list, dash_sales_list, cv_sales_listの平均を出す\n",
    "optimal_sales_pred_mean_norm = np.mean(optimal_sales_pred_list_norm)\n",
    "optimal_sales_mean_norm = np.mean(optimal_sales_list_norm)\n",
    "dash_sales_mean_norm = np.mean(dash_sales_list_norm)\n",
    "cv_sales_mean_norm = np.mean(cv_sales_list_norm)\n",
    "\n",
    "plt.bar(\n",
    "    [\n",
    "        r\"$f(z^*,\\theta^*)$\",\n",
    "        r\"$f(\\hat{z},\\hat\\theta)$\",\n",
    "        r\"$f(\\hat{z},\\theta^*)$\",\n",
    "        r\"k-fold\",\n",
    "    ],\n",
    "    [\n",
    "        optimal_sales_mean_norm / optimal_sales_mean_norm,\n",
    "        optimal_sales_pred_mean_norm / optimal_sales_mean_norm,\n",
    "        dash_sales_mean_norm / optimal_sales_mean_norm,\n",
    "        cv_sales_mean_norm / optimal_sales_mean_norm,\n",
    "    ],\n",
    "    color=[\"red\", \"blue\", \"green\", \"orange\"],\n",
    ")\n",
    "plt.yscale(\"log\")\n",
    "\n",
    "plt.show()\n"
   ]
  },
  {
   "cell_type": "code",
   "execution_count": null,
   "metadata": {},
   "outputs": [],
   "source": []
  }
 ],
 "metadata": {
  "kernelspec": {
   "display_name": ".venv",
   "language": "python",
   "name": "python3"
  },
  "language_info": {
   "codemirror_mode": {
    "name": "ipython",
    "version": 3
   },
   "file_extension": ".py",
   "mimetype": "text/x-python",
   "name": "python",
   "nbconvert_exporter": "python",
   "pygments_lexer": "ipython3",
   "version": "3.10.13"
  }
 },
 "nbformat": 4,
 "nbformat_minor": 2
}
